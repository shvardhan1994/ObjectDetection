{
 "cells": [
  {
   "cell_type": "code",
   "execution_count": 8,
   "metadata": {},
   "outputs": [],
   "source": [
    "import pandas as pd\n",
    "import numpy as np\n",
    "import pathlib\n",
    "import os\n",
    "from glob import glob\n",
    "from object_detection.utils import utils_frcnn"
   ]
  },
  {
   "cell_type": "code",
   "execution_count": 21,
   "metadata": {},
   "outputs": [],
   "source": [
    "train_input = sorted(glob(\"/p/project/hai_hmgu/workspace/harsha/OrgaQuantData/train\"+\"/*\",recursive=True))\n",
    "train_annot_df = pd.read_csv(\"/p/project/hai_hmgu/workspace/harsha/OrgaQuantData/train_labels.csv\", delimiter=';')\n",
    "test_input = sorted(glob(\"/p/project/hai_hmgu/workspace/harsha/OrgaQuantData/test\"+\"/*\",recursive=True))\n",
    "test_annot_df = pd.read_csv(\"/p/project/hai_hmgu/workspace/harsha/OrgaQuantData/test_labels.csv\", delimiter=',')"
   ]
  },
  {
   "cell_type": "code",
   "execution_count": 22,
   "metadata": {},
   "outputs": [],
   "source": [
    "train_annot_df['newpath'] = [p.split('/')[-1] for p in train_annot_df.Path]\n",
    "test_annot_df['newpath'] = [p.split('/')[-1] for p in test_annot_df.Path]"
   ]
  },
  {
   "cell_type": "code",
   "execution_count": 23,
   "metadata": {},
   "outputs": [
    {
     "data": {
      "text/plain": [
       "((13004, 7), (1135, 7))"
      ]
     },
     "execution_count": 23,
     "metadata": {},
     "output_type": "execute_result"
    }
   ],
   "source": [
    "train_annot_df.shape,test_annot_df.shape"
   ]
  },
  {
   "cell_type": "code",
   "execution_count": 24,
   "metadata": {},
   "outputs": [
    {
     "data": {
      "text/plain": [
       "((11468, 7), (1037, 7))"
      ]
     },
     "execution_count": 24,
     "metadata": {},
     "output_type": "execute_result"
    }
   ],
   "source": [
    "train_annot_df = utils_frcnn.correct_annotdf(train_annot_df)\n",
    "test_annot_df = utils_frcnn.correct_annotdf(test_annot_df)\n",
    "\n",
    "train_annot_df.shape,test_annot_df.shape"
   ]
  },
  {
   "cell_type": "code",
   "execution_count": 25,
   "metadata": {},
   "outputs": [],
   "source": [
    "# Check if all the input images have corresponding annotations\n",
    "new_train_input = []\n",
    "for i in range(len(train_input)):\n",
    "    path = train_input[i].split('/')[-1]\n",
    "    if len(train_annot_df[train_annot_df['newpath'] == path]) != 0:\n",
    "        new_train_input.append(train_input[i])\n",
    "\n",
    "new_test_input = []\n",
    "for i in range(len(test_input)):\n",
    "    path = test_input[i].split('/')[-1]\n",
    "    if len(test_annot_df[test_annot_df['newpath'] == path]) != 0:\n",
    "        new_test_input.append(test_input[i])"
   ]
  },
  {
   "cell_type": "code",
   "execution_count": 26,
   "metadata": {},
   "outputs": [],
   "source": [
    "import torch\n",
    "from torch.utils.data.dataset import Dataset  # For custom data-sets\n",
    "import torchvision.transforms as transforms\n",
    "import numpy as np\n",
    "from PIL import Image\n",
    "import random\n",
    "import cv2\n",
    "from glob import glob\n",
    "\n",
    "\n",
    "class CustomDataset(Dataset):\n",
    "    def __init__(self, img_path_list, annot_df, trans=None):\n",
    "        self.norm = transforms.ToTensor()\n",
    "        self.trans = trans\n",
    "        self.img_path_list = img_path_list\n",
    "        self.annot_df = annot_df\n",
    "\n",
    "    def __getitem__(self, idx):\n",
    "        # capture the image name and the full image path\n",
    "        image_name = self.img_path_list[idx]\n",
    "        # read the image\n",
    "        image = cv2.imread(image_name)\n",
    "        img_rgb = cv2.cvtColor(image, cv2.COLOR_BGR2RGB)\n",
    "        image = self.norm(img_rgb) \n",
    "\n",
    "        # read the annotations\n",
    "        path = image_name.split('/')[-1]\n",
    "        tempdf = self.annot_df[self.annot_df.newpath == path]\n",
    "        boxes = [tempdf.iloc[i,1:5].tolist() for i in range(len(tempdf))]\n",
    "        if len(boxes) == 0:\n",
    "            print(image_name)\n",
    "        gtboxes = []\n",
    "        for i in range(len(boxes)):\n",
    "            if boxes[i][2] > boxes[i][0] and boxes[i][3] > boxes[i][1]:\n",
    "                gtboxes.append(boxes[i])\n",
    "            elif boxes[i][0] > boxes[i][2] and boxes[i][1] > boxes[i][3]:\n",
    "                gtboxes.append([boxes[i][2],boxes[i][3],boxes[i][0],boxes[i][1]])\n",
    "            elif boxes[i][0] > boxes[i][2] and boxes[i][3] > boxes[i][1]:\n",
    "                gtboxes.append([boxes[i][2],boxes[i][1],boxes[i][0],boxes[i][3]])\n",
    "            elif boxes[i][1] > boxes[i][3] and boxes[i][2] > boxes[i][0]:\n",
    "                gtboxes.append([boxes[i][0],boxes[i][3],boxes[i][2],boxes[i][1]])\n",
    "        labels = [1] * len(gtboxes)\n",
    "\n",
    "        # bounding box to tensor\n",
    "        boxes = torch.as_tensor(gtboxes, dtype=torch.float32)\n",
    "        # labels to tensor\n",
    "        labels = torch.as_tensor(labels, dtype=torch.int64)\n",
    "        # prepare the final `target` dictionary\n",
    "        target = {}\n",
    "        target[\"boxes\"] = boxes\n",
    "        target[\"labels\"] = labels\n",
    "        image = torch.as_tensor(image, dtype=torch.float32)\n",
    "        \n",
    "\n",
    "        return image, target\n",
    "\n",
    "\n",
    "    def __len__(self):\n",
    "        return len(self.img_path_list)"
   ]
  },
  {
   "cell_type": "code",
   "execution_count": 27,
   "metadata": {},
   "outputs": [],
   "source": [
    "data_train = CustomDataset(new_train_input,train_annot_df)\n",
    "data_test = CustomDataset(new_test_input,test_annot_df)"
   ]
  },
  {
   "cell_type": "code",
   "execution_count": 20,
   "metadata": {},
   "outputs": [
    {
     "data": {
      "text/html": [
       "<div>\n",
       "<style scoped>\n",
       "    .dataframe tbody tr th:only-of-type {\n",
       "        vertical-align: middle;\n",
       "    }\n",
       "\n",
       "    .dataframe tbody tr th {\n",
       "        vertical-align: top;\n",
       "    }\n",
       "\n",
       "    .dataframe thead th {\n",
       "        text-align: right;\n",
       "    }\n",
       "</style>\n",
       "<table border=\"1\" class=\"dataframe\">\n",
       "  <thead>\n",
       "    <tr style=\"text-align: right;\">\n",
       "      <th></th>\n",
       "      <th>Path</th>\n",
       "      <th>x1</th>\n",
       "      <th>y1</th>\n",
       "      <th>x2</th>\n",
       "      <th>y2</th>\n",
       "      <th>type</th>\n",
       "    </tr>\n",
       "  </thead>\n",
       "  <tbody>\n",
       "  </tbody>\n",
       "</table>\n",
       "</div>"
      ],
      "text/plain": [
       "Empty DataFrame\n",
       "Columns: [Path, x1, y1, x2, y2, type]\n",
       "Index: []"
      ]
     },
     "execution_count": 20,
     "metadata": {},
     "output_type": "execute_result"
    }
   ],
   "source": [
    "train_annot_df[train_annot_df.Path == \"Subset_2_300x300_161.jpg\"]"
   ]
  },
  {
   "cell_type": "code",
   "execution_count": 28,
   "metadata": {},
   "outputs": [],
   "source": [
    "for i in range(len(data_train)):\n",
    "    img,tgt = data_train[i]\n",
    "    boxes = tgt[\"boxes\"]\n",
    "    if len(boxes) == 0:\n",
    "        print(1)\n",
    "                "
   ]
  },
  {
   "cell_type": "code",
   "execution_count": null,
   "metadata": {},
   "outputs": [],
   "source": []
  }
 ],
 "metadata": {
  "kernelspec": {
   "display_name": "object_detection_env",
   "language": "python",
   "name": "object_detection_env"
  },
  "language_info": {
   "codemirror_mode": {
    "name": "ipython",
    "version": 3
   },
   "file_extension": ".py",
   "mimetype": "text/x-python",
   "name": "python",
   "nbconvert_exporter": "python",
   "pygments_lexer": "ipython3",
   "version": "3.9.7"
  }
 },
 "nbformat": 4,
 "nbformat_minor": 4
}
